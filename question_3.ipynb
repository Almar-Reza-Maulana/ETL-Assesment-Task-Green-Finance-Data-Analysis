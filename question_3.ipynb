{
 "cells": [
  {
   "cell_type": "markdown",
   "id": "31a81777",
   "metadata": {},
   "source": [
    "#### <strong>Question 3: While Loop and User Input</strong>\n",
    "\n",
    "---\n",
    "<strong>Description</strong>: The government requires a tool to check land status and social conflict levels by entering Project_IDs.\n",
    "\n",
    "<strong>Task:</strong>\n",
    "<ul>\n",
    "    <li>Use Social_Dataset.xlsx.\n",
    "    <li>Write a program using a while loop to prompt for Project_ID until \"DONE\" is entered.\n",
    "    <li>For valid Project_IDs, display Land_Status and Tingkat_Konflik.\n",
    "    <li>For invalid Project_IDs, show \"Project not found\".\n",
    "</ul>\n",
    "\n",
    "<strong>Example Output:</strong>  \n",
    "Enter Project_ID (or ’DONE’ to finish): PLTS-NTT-001  \n",
    "PLTS-NTT-001 - Land Status: Adat, Tingkat Konflik: High  \n",
    "Enter Project_ID (or ’DONE’ to finish): INVALID-ID  \n",
    "Project not found  \n",
    "Enter Project_ID (or ’DONE’ to finish): DONE\n",
    "\n",
    "---"
   ]
  },
  {
   "cell_type": "markdown",
   "id": "95340305",
   "metadata": {},
   "source": [
    "##### <strong>🔹Prepare Dataset</strong>"
   ]
  },
  {
   "cell_type": "code",
   "execution_count": 2,
   "id": "17df502a",
   "metadata": {},
   "outputs": [
    {
     "data": {
      "text/html": [
       "<div>\n",
       "<style scoped>\n",
       "    .dataframe tbody tr th:only-of-type {\n",
       "        vertical-align: middle;\n",
       "    }\n",
       "\n",
       "    .dataframe tbody tr th {\n",
       "        vertical-align: top;\n",
       "    }\n",
       "\n",
       "    .dataframe thead th {\n",
       "        text-align: right;\n",
       "    }\n",
       "</style>\n",
       "<table border=\"1\" class=\"dataframe\">\n",
       "  <thead>\n",
       "    <tr style=\"text-align: right;\">\n",
       "      <th></th>\n",
       "      <th>Project_ID</th>\n",
       "      <th>Land_Status</th>\n",
       "      <th>Community_Support</th>\n",
       "      <th>Population_Density</th>\n",
       "      <th>Konteks_Sosial</th>\n",
       "      <th>Tingkat_Konflik</th>\n",
       "    </tr>\n",
       "  </thead>\n",
       "  <tbody>\n",
       "    <tr>\n",
       "      <th>0</th>\n",
       "      <td>PLTS-NTT-001</td>\n",
       "      <td>Adat</td>\n",
       "      <td>70</td>\n",
       "      <td>50</td>\n",
       "      <td>Sumba: lahan adat, konsultasi intensif</td>\n",
       "      <td>High: ⚠️⚠️⚠️</td>\n",
       "    </tr>\n",
       "    <tr>\n",
       "      <th>1</th>\n",
       "      <td>PLTM-SUMUT-001</td>\n",
       "      <td>Negara</td>\n",
       "      <td>85</td>\n",
       "      <td>200</td>\n",
       "      <td>Tapanuli: izin BPN lancar, dukungan tinggi</td>\n",
       "      <td>Low: ⚠️</td>\n",
       "    </tr>\n",
       "    <tr>\n",
       "      <th>2</th>\n",
       "      <td>PLTS-JATIM-001</td>\n",
       "      <td>Swasta</td>\n",
       "      <td>90</td>\n",
       "      <td>800</td>\n",
       "      <td>Surabaya: lahan swasta, masyarakat urban</td>\n",
       "      <td>Low: ⚠️</td>\n",
       "    </tr>\n",
       "    <tr>\n",
       "      <th>3</th>\n",
       "      <td>PLTM-KALB-001</td>\n",
       "      <td>Adat</td>\n",
       "      <td>65</td>\n",
       "      <td>100</td>\n",
       "      <td>Kalbar: lahan adat, risiko konflik sedang</td>\n",
       "      <td>High: ⚠️⚠️⚠️</td>\n",
       "    </tr>\n",
       "    <tr>\n",
       "      <th>4</th>\n",
       "      <td>PLTS-SULS-001</td>\n",
       "      <td>Negara</td>\n",
       "      <td>80</td>\n",
       "      <td>300</td>\n",
       "      <td>Makassar: izin mudah, dukungan baik</td>\n",
       "      <td>Medium: ⚠️⚠️</td>\n",
       "    </tr>\n",
       "  </tbody>\n",
       "</table>\n",
       "</div>"
      ],
      "text/plain": [
       "       Project_ID Land_Status  Community_Support  Population_Density  \\\n",
       "0    PLTS-NTT-001        Adat                 70                  50   \n",
       "1  PLTM-SUMUT-001      Negara                 85                 200   \n",
       "2  PLTS-JATIM-001      Swasta                 90                 800   \n",
       "3   PLTM-KALB-001        Adat                 65                 100   \n",
       "4   PLTS-SULS-001      Negara                 80                 300   \n",
       "\n",
       "                               Konteks_Sosial Tingkat_Konflik  \n",
       "0      Sumba: lahan adat, konsultasi intensif    High: ⚠️⚠️⚠️  \n",
       "1  Tapanuli: izin BPN lancar, dukungan tinggi         Low: ⚠️  \n",
       "2    Surabaya: lahan swasta, masyarakat urban         Low: ⚠️  \n",
       "3   Kalbar: lahan adat, risiko konflik sedang    High: ⚠️⚠️⚠️  \n",
       "4         Makassar: izin mudah, dukungan baik    Medium: ⚠️⚠️  "
      ]
     },
     "execution_count": 2,
     "metadata": {},
     "output_type": "execute_result"
    }
   ],
   "source": [
    "# import pandas untuk mengelola data\n",
    "import pandas as pd\n",
    "\n",
    "# membaca file excel social dataset\n",
    "df = pd.read_excel('assets/Social_Dataset.xlsx')\n",
    "\n",
    "# melihat preview data social\n",
    "df.head()"
   ]
  },
  {
   "cell_type": "markdown",
   "id": "f4a5ae38",
   "metadata": {},
   "source": [
    "##### <strong>🔹Loop until \"DONE\", Display Details, Handle Not Founded ProjectID</strong>"
   ]
  },
  {
   "cell_type": "code",
   "execution_count": null,
   "id": "5140cd8e",
   "metadata": {},
   "outputs": [
    {
     "name": "stdout",
     "output_type": "stream",
     "text": [
      "PLTS-NTT-001 - Land Status: Adat, Tingkat Konflik: High\n",
      "PLTM-KALB-001 - Land Status: Adat, Tingkat Konflik: High\n",
      "Project not found\n"
     ]
    }
   ],
   "source": [
    "# melakukan looping menggunakan while\n",
    "while True:\n",
    "    try:\n",
    "        # menerima input project ID dari user\n",
    "        option = input(\"Enter Project_ID (or 'DONE' to finish): \")\n",
    "        # memberhentikan looping ketika user menginput 'DONE'\n",
    "        if option.lower() == 'done':\n",
    "            break\n",
    "        else:\n",
    "            found = 0\n",
    "            # melakukan looping dataset\n",
    "            for index, row in df.iterrows():\n",
    "                # memfilter inputan projectID dari user\n",
    "                if row['Project_ID'] == option:\n",
    "                    # mencetak detail data untuk project ID yang sesuai\n",
    "                    print(f'{row[\"Project_ID\"]} - Land Status: {row['Land_Status']}, Tingkat Konflik: {row['Tingkat_Konflik'][0:row['Tingkat_Konflik'].index(':')]}')\n",
    "                    found = 1\n",
    "                    break\n",
    "            # menghandle ketika tidak ada projectID yang diinput user pada dataset\n",
    "            if found == 0:\n",
    "                print('Project not found')\n",
    "    # menghandle exception\n",
    "    except Exception as e:\n",
    "        print(e)"
   ]
  },
  {
   "cell_type": "markdown",
   "id": "f9edd500",
   "metadata": {},
   "source": [
    "<strong>🔹Example Output:</strong>  \n",
    "Enter Project_ID (or ’DONE’ to finish): PLTS-NTT-001  \n",
    "PLTS-NTT-001 - Land Status: Adat, Tingkat Konflik: High  \n",
    "Enter Project_ID (or ’DONE’ to finish): INVALID-ID  \n",
    "Project not found  \n",
    "Enter Project_ID (or ’DONE’ to finish): DONE"
   ]
  }
 ],
 "metadata": {
  "kernelspec": {
   "display_name": "green_finance",
   "language": "python",
   "name": "python3"
  },
  "language_info": {
   "codemirror_mode": {
    "name": "ipython",
    "version": 3
   },
   "file_extension": ".py",
   "mimetype": "text/x-python",
   "name": "python",
   "nbconvert_exporter": "python",
   "pygments_lexer": "ipython3",
   "version": "3.12.11"
  }
 },
 "nbformat": 4,
 "nbformat_minor": 5
}
