{
 "cells": [
  {
   "cell_type": "code",
   "execution_count": null,
   "id": "ec73edcf",
   "metadata": {},
   "outputs": [
    {
     "name": "stdout",
     "output_type": "stream",
     "text": [
      "Processed PLTS-NTT-O01: 25000.0 kWh\n",
      "Processed PLTM-SUMUT-001: 10000.0 kWh\n",
      "Processed PLTS-JATIM-001: 30000.0 kWh\n",
      "Processed PLTM-KALB-001: 12000.0 kWh\n",
      "Processed PLTS-SULS-001: 20000.0 kWh\n",
      "Processed PLTM-PAPU-001: 15000.0 kWh\n",
      "Processed PLTS-NTB-001: 28000.0 kWh\n",
      "Processed PLTM-ACHD-001: 11000.0 kWh\n",
      "Processed PLTS-JABW-001: 32000.0 kWh\n",
      "Project PLTM-SULU-001 tidak ditemukan\n",
      "Average Energy Output: 20333 kWh\n"
     ]
    }
   ],
   "source": [
    "import pandas as pd\n",
    "\n",
    "# Langkah 1: Impor dataset \n",
    "df = pd.read_csv('Assets/Environmental_Dataset.csv')\n",
    "\n",
    "# Langkah 2: Ubah DataFrame menjadi dictionary \n",
    "env_dict = dict(zip(df['Project_ID'], df['Energy_Output']))\n",
    "\n",
    "# Langkah 3: buat list untuk yang dianalisis\n",
    "project_ids = ['PLTS-NTT-O01', 'PLTM-SUMUT-001', 'PLTS-JATIM-001', 'PLTM-KALB-001','PLTS-SULS-001', 'PLTM-PAPU-001', 'PLTS-NTB-001', 'PLTM-ACHD-001','PLTS-JABW-001', 'PLTM-SULU-001']\n",
    "\n",
    "# Langkah 4: Buat list kosong\n",
    "energy_output_values = []\n",
    "\n",
    "# Langkah 5: Iterasi dari Project_ID dan ngebuat sisitem KeyError\n",
    "for project_id in project_ids:\n",
    "    try:\n",
    "        energy_output = env_dict[project_id]\n",
    "        # ngevalidasi nilai Energy_Output \n",
    "        if pd.notna('energy_output') and energy_output >= 0:\n",
    "            energy_output_values.append(energy_output)\n",
    "            print(f\"Processed {project_id}: {energy_output} kWh\")\n",
    "        else:\n",
    "            print(f\"Project {project_id} data Energy_Output hilang\")\n",
    "    except KeyError:\n",
    "        print(f\"Project {project_id} tidak ditemukan\")\n",
    "\n",
    "# Langkah 6: Hitung rata-rata\n",
    "if len(energy_output_values) > 0:\n",
    "    total_energy = sum(energy_output_values)\n",
    "    count_of_projects = len(energy_output_values)\n",
    "    average_energy = total_energy / count_of_projects\n",
    "    print(f\"Average Energy Output: {int(average_energy)} kWh\")\n",
    "else:\n",
    "    print(\"No valid projects found.\")"
   ]
  },
  {
   "cell_type": "code",
   "execution_count": null,
   "id": "a9f2d738",
   "metadata": {},
   "outputs": [],
   "source": []
  }
 ],
 "metadata": {
  "kernelspec": {
   "display_name": "energi_hijau",
   "language": "python",
   "name": "python3"
  },
  "language_info": {
   "codemirror_mode": {
    "name": "ipython",
    "version": 3
   },
   "file_extension": ".py",
   "mimetype": "text/x-python",
   "name": "python",
   "nbconvert_exporter": "python",
   "pygments_lexer": "ipython3",
   "version": "3.12.11"
  }
 },
 "nbformat": 4,
 "nbformat_minor": 5
}
