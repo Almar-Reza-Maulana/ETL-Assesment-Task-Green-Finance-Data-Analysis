{
 "cells": [
  {
   "cell_type": "code",
   "execution_count": 1,
   "id": "f2339699",
   "metadata": {},
   "outputs": [],
   "source": [
    "from green_analysis import compute_co2_efficiency"
   ]
  },
  {
   "cell_type": "code",
   "execution_count": 2,
   "id": "81f3c64c",
   "metadata": {},
   "outputs": [],
   "source": [
    "# Data proyek:\n",
    "# CO2_Reduction dalam ton\n",
    "# Investment_Cost dalam juta rupiah\n",
    "\n",
    "projects = [\n",
    "    (\"PLTS-NTT-001\", 500_000, 1),   # 1 juta\n",
    "    (\"PLTS-JATIM-001\", 450_000, 1), # 1 juta\n",
    "    (\"PLTM-PAPU-001\", 400_000, 1),  # 1 juta\n",
    "]"
   ]
  },
  {
   "cell_type": "code",
   "execution_count": 3,
   "id": "8bab8c45",
   "metadata": {},
   "outputs": [
    {
     "name": "stdout",
     "output_type": "stream",
     "text": [
      "PLTS-NTT-001: 0.5\n",
      "PLTS-JATIM-001: 0.45\n",
      "PLTM-PAPU-001: 0.4\n"
     ]
    }
   ],
   "source": [
    "for project_id, co2, cost in projects:\n",
    "    result = compute_co2_efficiency(co2, cost)\n",
    "    print(f\"{project_id}: {result}\")"
   ]
  },
  {
   "cell_type": "code",
   "execution_count": null,
   "id": "f58cf12c",
   "metadata": {},
   "outputs": [],
   "source": []
  }
 ],
 "metadata": {
  "kernelspec": {
   "display_name": "energy_hijau",
   "language": "python",
   "name": "python3"
  },
  "language_info": {
   "codemirror_mode": {
    "name": "ipython",
    "version": 3
   },
   "file_extension": ".py",
   "mimetype": "text/x-python",
   "name": "python",
   "nbconvert_exporter": "python",
   "pygments_lexer": "ipython3",
   "version": "3.12.9"
  }
 },
 "nbformat": 4,
 "nbformat_minor": 5
}
