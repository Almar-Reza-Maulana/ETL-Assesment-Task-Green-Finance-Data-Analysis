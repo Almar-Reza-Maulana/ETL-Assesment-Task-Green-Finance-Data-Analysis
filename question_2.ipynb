{
 "cells": [
  {
   "cell_type": "markdown",
   "id": "b4121b74",
   "metadata": {},
   "source": [
    "# Question 2 : For Loop and Lists"
   ]
  },
  {
   "cell_type": "code",
   "execution_count": 5,
   "id": "7e40d53f",
   "metadata": {},
   "outputs": [
    {
     "name": "stdout",
     "output_type": "stream",
     "text": [
      "Nilai Co2 reduction yang ditemukan untuk PLTM : [30000, 35000, 40000, 32000, 36000]\n",
      "Average CO2 Reduction for PLTM Projects: 34600 tons CO2e\n"
     ]
    }
   ],
   "source": [
    "# langkah 1 : Impor Pandas untuk memasukkan data CSV\n",
    "import pandas as pd \n",
    "\n",
    "# Langkah 2 : Membaca file Environmental_Dataset.csv\n",
    "df = pd.read_excel('assets/Environmental_Dataset.xlsx')\n",
    "\n",
    "# Langkah 3 : membuat list kosong\n",
    "PLTM_CO2_Reduction_Values = []\n",
    "\n",
    "# Langkah 4 : Memakai for loop\n",
    "for index, row in df.iterrows():\n",
    "    Project_ID = str(row['Project_ID'])\n",
    "     # Meriksa apakah Project_ID dimulai dengan PLTM\n",
    "    if Project_ID.startswith('PLTM'):\n",
    "         # Jika ada, tambahkan nilai CO2_Reduction ke dalam list\n",
    "        PLTM_CO2_Reduction_Values.append(row['CO2_Reduction'])\n",
    "\n",
    "print(f\"Nilai Co2 reduction yang ditemukan untuk PLTM : {PLTM_CO2_Reduction_Values}\")\n",
    "\n",
    "# Langkah 5 :Hitung Rata-Rata\n",
    "if len(PLTM_CO2_Reduction_Values) > 0 :\n",
    "     total_CO2 = sum(PLTM_CO2_Reduction_Values) # Hitung total pakai sum\n",
    "     count_of_projects = len(PLTM_CO2_Reduction_Values) # Hitung Jumlah proyeknya \n",
    "     average_CO2 = total_CO2 / count_of_projects # Hitung rata- ratanya \n",
    "else :\n",
    "     average_CO2 = 0  # Buat pengecualian, kalo misal gak ada proyek PLTM-Nya ya jadinya 0 \n",
    "\n",
    "# Langkah 6 : Tampilin hasil sesuai format yang dibuat\n",
    "print (f\"Average CO2 Reduction for PLTM Projects: {int(average_CO2)} tons CO2e\")"
   ]
  }
 ],
 "metadata": {
  "kernelspec": {
   "display_name": "green_finance",
   "language": "python",
   "name": "python3"
  },
  "language_info": {
   "codemirror_mode": {
    "name": "ipython",
    "version": 3
   },
   "file_extension": ".py",
   "mimetype": "text/x-python",
   "name": "python",
   "nbconvert_exporter": "python",
   "pygments_lexer": "ipython3",
   "version": "3.12.11"
  }
 },
 "nbformat": 4,
 "nbformat_minor": 5
}
